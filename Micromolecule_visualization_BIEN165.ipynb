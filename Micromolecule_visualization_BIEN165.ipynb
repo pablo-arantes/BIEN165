{
  "nbformat": 4,
  "nbformat_minor": 0,
  "metadata": {
    "colab": {
      "provenance": [],
      "authorship_tag": "ABX9TyMmf5L22Xd8kqhWlBM6bJlF",
      "include_colab_link": true
    },
    "kernelspec": {
      "name": "python3",
      "display_name": "Python 3"
    },
    "language_info": {
      "name": "python"
    }
  },
  "cells": [
    {
      "cell_type": "markdown",
      "metadata": {
        "id": "view-in-github",
        "colab_type": "text"
      },
      "source": [
        "<a href=\"https://colab.research.google.com/github/pablo-arantes/BIEN165/blob/main/Micromolecule_visualization_BIEN165.ipynb\" target=\"_parent\"><img src=\"https://colab.research.google.com/assets/colab-badge.svg\" alt=\"Open In Colab\"/></a>"
      ]
    },
    {
      "cell_type": "markdown",
      "source": [
        "# **Hello there!**\n",
        "\n",
        "This is a Jupyter notebook to visualization of micromolecular systems using RDKit and py3dmol. This notebook is based on \"***Making it rain: Cloud-based molecular simulations for everyone***\" ([link here](https://doi.org/10.1021/acs.jcim.1c00998)). This notebook is part of BIEN 165 class of bioengineering course at University of California, Riverside.\n",
        "\n",
        "Notebook created by [**Pablo R. Arantes**](https://pablo-arantes.github.io/)\n",
        "\n",
        "The main goal of this notebook is to demonstrate the steps to visualize a micromolecular systems in a cheap and yet feasible fashion.\n",
        "\n",
        "---\n",
        "\n",
        "\n",
        "**Acknowledgments**\n",
        "\n",
        "- A Making-it-rain  team, **Pablo R. Arantes** ([@pablitoarantes](https://twitter.com/pablitoarantes)), **Marcelo D. Polêto** ([@mdpoleto](https://twitter.com/mdpoleto)), **Conrado Pedebos** ([@ConradoPedebos](https://twitter.com/ConradoPedebos)) and **Rodrigo Ligabue-Braun** ([@ligabue_braun](https://twitter.com/ligabue_braun)).\n",
        "\n",
        "\n",
        "- Also, credit to [David Koes](https://github.com/dkoes) for his awesome [py3Dmol](https://3dmol.csb.pitt.edu/) plugin.\n",
        "\n",
        "- For related notebooks see: [Making-it-rain](https://github.com/pablo-arantes/making-it-rain)"
      ],
      "metadata": {
        "id": "pgQzyhS_kBvR"
      }
    },
    {
      "cell_type": "markdown",
      "source": [
        "# **Introduction**\n",
        "\n",
        "In terms of inputs, we wil need:\n",
        "*  A smile of your molecule.\n",
        "\n",
        "In this notebook, we will visualize the acetaminophen molecule (**CC(=O)NC1=CC=C(C=C1)O**). To construct the 2D and 3D representations of acetaminophen, we will use the RDKit library. For visualizing the 3D molecule, we will employ py3Dmol.\n",
        "## ---"
      ],
      "metadata": {
        "id": "4Mum2VuQk4mD"
      }
    },
    {
      "cell_type": "markdown",
      "source": [
        "# **Setting the environment**\n",
        "\n",
        "Firstly, we need to install all necessary libraries and packages. The main packages we will be installing are:\n",
        "\n",
        "1.    Anaconda (https://docs.conda.io/en/latest/miniconda.html)\n",
        "2.    RDKit (https://www.rdkit.org/)\n",
        "3.    py3Dmol (https://pypi.org/project/py3Dmol/)\n"
      ],
      "metadata": {
        "id": "0yuApMAZlYdl"
      }
    },
    {
      "cell_type": "code",
      "execution_count": 4,
      "metadata": {
        "colab": {
          "base_uri": "https://localhost:8080/"
        },
        "cellView": "form",
        "id": "cOK5Tc4ayRRW",
        "outputId": "5d668549-e59a-4fb0-c37c-7c2f9e5cbb8b"
      },
      "outputs": [
        {
          "output_type": "execute_result",
          "data": {
            "text/plain": [
              "CompletedProcess(args='pip install rdkit', returncode=0)"
            ]
          },
          "metadata": {},
          "execution_count": 4
        }
      ],
      "source": [
        "#@title **Install dependencies**\n",
        "# install dependencies\n",
        "import subprocess\n",
        "import sys\n",
        "subprocess.run(\"pip -q install py3Dmol\", shell=True)\n",
        "subprocess.run(\"pip install rdkit\", shell=True)\n"
      ]
    },
    {
      "cell_type": "code",
      "source": [
        "#@title **Please, provide the necessary information for the molecule**:\n",
        "\n",
        "#@markdown Type the smiles of your molecule. **Ex: CC(=O)NC1=CC=C(C=C1)O**\n",
        "\n",
        "\n",
        "#@markdown If you don't know the exactly smiles, please, check at https://pubchem.ncbi.nlm.nih.gov/\n",
        "from rdkit import Chem\n",
        "from rdkit.Chem import AllChem\n",
        "from rdkit.Chem import Draw\n",
        "from rdkit.Chem import rdMolTransforms\n",
        "from rdkit.Chem.Draw import rdMolDraw2D\n",
        "from rdkit.Chem import rdDepictor\n",
        "from rdkit.Chem import rdForceFieldHelpers\n",
        "from IPython.display import SVG\n",
        "import ipywidgets as widgets\n",
        "import rdkit\n",
        "from rdkit.Chem.Draw import IPythonConsole\n",
        "AllChem.SetPreferCoordGen(True)\n",
        "from IPython.display import Image\n",
        "import os\n",
        "\n",
        "def mol_with_atom_index(mol):\n",
        "    for atom in mol.GetAtoms():\n",
        "        atom.SetAtomMapNum(atom.GetIdx())\n",
        "    return mol\n",
        "\n",
        "import py3Dmol\n",
        "\n",
        "\n",
        "\n",
        "smiles = 'CC(=O)NC1=CC=C(C=C1)O' #@param {type:\"string\"}\n",
        "workDir = \"/content/\"\n",
        "\n",
        "\n",
        "Smiles = smiles\n",
        "smiles_fig = Chem.MolFromSmiles(Smiles)\n",
        "hmol = Chem.AddHs(smiles_fig)\n",
        "\n",
        "\n",
        "\n",
        "original_stdout = sys.stdout # Save a reference to the original standard output\n",
        "final_smiles = '/content/smiles.smi'\n",
        "with open(final_smiles, 'w') as f:\n",
        "    sys.stdout = f # Change the standard output to the file we created.\n",
        "    print(Smiles, ' ')\n",
        "    sys.stdout = original_stdout\n",
        "\n",
        "d2d = rdMolDraw2D.MolDraw2DSVG(600, 600)\n",
        "d2d.drawOptions().addAtomIndices=True\n",
        "d2d.DrawMolecule(hmol)\n",
        "d2d.FinishDrawing()\n",
        "svg = d2d.GetDrawingText()\n",
        "with open('smiles.svg', 'w') as f:\n",
        "    f.write(svg)\n",
        "print(\"Smiles: \" + str(Smiles))\n",
        "SVG(svg)"
      ],
      "metadata": {
        "colab": {
          "base_uri": "https://localhost:8080/",
          "height": 639
        },
        "cellView": "form",
        "id": "lmDQj5i3yeXS",
        "outputId": "f77a46d8-1ed8-4160-bfb3-be5bdf4d95a1"
      },
      "execution_count": 2,
      "outputs": [
        {
          "output_type": "stream",
          "name": "stdout",
          "text": [
            "Smiles: CC(=O)NC1=CC=C(C=C1)O\n"
          ]
        },
        {
          "output_type": "execute_result",
          "data": {
            "text/plain": [
              "<IPython.core.display.SVG object>"
            ],
            "image/svg+xml": "<svg xmlns=\"http://www.w3.org/2000/svg\" xmlns:rdkit=\"http://www.rdkit.org/xml\" xmlns:xlink=\"http://www.w3.org/1999/xlink\" version=\"1.1\" baseProfile=\"full\" xml:space=\"preserve\" width=\"600px\" height=\"600px\" viewBox=\"0 0 600 600\">\n<!-- END OF HEADER -->\n<rect style=\"opacity:1.0;fill:#FFFFFF;stroke:none\" width=\"600.0\" height=\"600.0\" x=\"0.0\" y=\"0.0\"> </rect>\n<path class=\"bond-0 atom-0 atom-1\" d=\"M 138.3,375.6 L 202.8,338.1\" style=\"fill:none;fill-rule:evenodd;stroke:#000000;stroke-width:2.0px;stroke-linecap:butt;stroke-linejoin:miter;stroke-opacity:1\"/>\n<path class=\"bond-1 atom-1 atom-2\" d=\"M 208.5,341.3 L 208.3,310.9\" style=\"fill:none;fill-rule:evenodd;stroke:#000000;stroke-width:2.0px;stroke-linecap:butt;stroke-linejoin:miter;stroke-opacity:1\"/>\n<path class=\"bond-1 atom-1 atom-2\" d=\"M 208.3,310.9 L 208.2,280.6\" style=\"fill:none;fill-rule:evenodd;stroke:#FF0000;stroke-width:2.0px;stroke-linecap:butt;stroke-linejoin:miter;stroke-opacity:1\"/>\n<path class=\"bond-1 atom-1 atom-2\" d=\"M 197.3,341.3 L 197.1,311.0\" style=\"fill:none;fill-rule:evenodd;stroke:#000000;stroke-width:2.0px;stroke-linecap:butt;stroke-linejoin:miter;stroke-opacity:1\"/>\n<path class=\"bond-1 atom-1 atom-2\" d=\"M 197.1,311.0 L 197.0,280.6\" style=\"fill:none;fill-rule:evenodd;stroke:#FF0000;stroke-width:2.0px;stroke-linecap:butt;stroke-linejoin:miter;stroke-opacity:1\"/>\n<path class=\"bond-2 atom-1 atom-3\" d=\"M 202.8,338.1 L 228.6,352.8\" style=\"fill:none;fill-rule:evenodd;stroke:#000000;stroke-width:2.0px;stroke-linecap:butt;stroke-linejoin:miter;stroke-opacity:1\"/>\n<path class=\"bond-2 atom-1 atom-3\" d=\"M 228.6,352.8 L 254.4,367.6\" style=\"fill:none;fill-rule:evenodd;stroke:#0000FF;stroke-width:2.0px;stroke-linecap:butt;stroke-linejoin:miter;stroke-opacity:1\"/>\n<path class=\"bond-3 atom-3 atom-4\" d=\"M 280.8,367.5 L 306.5,352.5\" style=\"fill:none;fill-rule:evenodd;stroke:#0000FF;stroke-width:2.0px;stroke-linecap:butt;stroke-linejoin:miter;stroke-opacity:1\"/>\n<path class=\"bond-3 atom-3 atom-4\" d=\"M 306.5,352.5 L 332.2,337.6\" style=\"fill:none;fill-rule:evenodd;stroke:#000000;stroke-width:2.0px;stroke-linecap:butt;stroke-linejoin:miter;stroke-opacity:1\"/>\n<path class=\"bond-4 atom-4 atom-5\" d=\"M 332.2,337.6 L 397.0,374.7\" style=\"fill:none;fill-rule:evenodd;stroke:#000000;stroke-width:2.0px;stroke-linecap:butt;stroke-linejoin:miter;stroke-opacity:1\"/>\n<path class=\"bond-4 atom-4 atom-5\" d=\"M 343.4,331.1 L 396.9,361.8\" style=\"fill:none;fill-rule:evenodd;stroke:#000000;stroke-width:2.0px;stroke-linecap:butt;stroke-linejoin:miter;stroke-opacity:1\"/>\n<path class=\"bond-5 atom-5 atom-6\" d=\"M 397.0,374.7 L 461.5,337.1\" style=\"fill:none;fill-rule:evenodd;stroke:#000000;stroke-width:2.0px;stroke-linecap:butt;stroke-linejoin:miter;stroke-opacity:1\"/>\n<path class=\"bond-6 atom-6 atom-7\" d=\"M 461.5,337.1 L 461.3,262.5\" style=\"fill:none;fill-rule:evenodd;stroke:#000000;stroke-width:2.0px;stroke-linecap:butt;stroke-linejoin:miter;stroke-opacity:1\"/>\n<path class=\"bond-6 atom-6 atom-7\" d=\"M 450.3,330.7 L 450.1,269.0\" style=\"fill:none;fill-rule:evenodd;stroke:#000000;stroke-width:2.0px;stroke-linecap:butt;stroke-linejoin:miter;stroke-opacity:1\"/>\n<path class=\"bond-7 atom-7 atom-8\" d=\"M 461.3,262.5 L 396.4,225.3\" style=\"fill:none;fill-rule:evenodd;stroke:#000000;stroke-width:2.0px;stroke-linecap:butt;stroke-linejoin:miter;stroke-opacity:1\"/>\n<path class=\"bond-8 atom-8 atom-9\" d=\"M 396.4,225.3 L 331.9,262.9\" style=\"fill:none;fill-rule:evenodd;stroke:#000000;stroke-width:2.0px;stroke-linecap:butt;stroke-linejoin:miter;stroke-opacity:1\"/>\n<path class=\"bond-8 atom-8 atom-9\" d=\"M 396.5,238.3 L 343.1,269.3\" style=\"fill:none;fill-rule:evenodd;stroke:#000000;stroke-width:2.0px;stroke-linecap:butt;stroke-linejoin:miter;stroke-opacity:1\"/>\n<path class=\"bond-9 atom-7 atom-10\" d=\"M 461.3,262.5 L 485.8,248.2\" style=\"fill:none;fill-rule:evenodd;stroke:#000000;stroke-width:2.0px;stroke-linecap:butt;stroke-linejoin:miter;stroke-opacity:1\"/>\n<path class=\"bond-9 atom-7 atom-10\" d=\"M 485.8,248.2 L 510.3,233.9\" style=\"fill:none;fill-rule:evenodd;stroke:#FF0000;stroke-width:2.0px;stroke-linecap:butt;stroke-linejoin:miter;stroke-opacity:1\"/>\n<path class=\"bond-10 atom-9 atom-4\" d=\"M 331.9,262.9 L 332.2,337.6\" style=\"fill:none;fill-rule:evenodd;stroke:#000000;stroke-width:2.0px;stroke-linecap:butt;stroke-linejoin:miter;stroke-opacity:1\"/>\n<path class=\"bond-11 atom-0 atom-11\" d=\"M 138.3,375.6 L 166.2,423.5\" style=\"fill:none;fill-rule:evenodd;stroke:#000000;stroke-width:2.0px;stroke-linecap:butt;stroke-linejoin:miter;stroke-opacity:1\"/>\n<path class=\"bond-12 atom-0 atom-12\" d=\"M 138.3,375.6 L 110.7,423.8\" style=\"fill:none;fill-rule:evenodd;stroke:#000000;stroke-width:2.0px;stroke-linecap:butt;stroke-linejoin:miter;stroke-opacity:1\"/>\n<path class=\"bond-13 atom-0 atom-13\" d=\"M 138.3,375.6 L 87.0,346.3\" style=\"fill:none;fill-rule:evenodd;stroke:#000000;stroke-width:2.0px;stroke-linecap:butt;stroke-linejoin:miter;stroke-opacity:1\"/>\n<path class=\"bond-14 atom-3 atom-14\" d=\"M 267.7,391.8 L 267.8,412.5\" style=\"fill:none;fill-rule:evenodd;stroke:#0000FF;stroke-width:2.0px;stroke-linecap:butt;stroke-linejoin:miter;stroke-opacity:1\"/>\n<path class=\"bond-14 atom-3 atom-14\" d=\"M 267.8,412.5 L 267.9,433.2\" style=\"fill:none;fill-rule:evenodd;stroke:#000000;stroke-width:2.0px;stroke-linecap:butt;stroke-linejoin:miter;stroke-opacity:1\"/>\n<path class=\"bond-15 atom-5 atom-15\" d=\"M 397.0,374.7 L 397.2,432.7\" style=\"fill:none;fill-rule:evenodd;stroke:#000000;stroke-width:2.0px;stroke-linecap:butt;stroke-linejoin:miter;stroke-opacity:1\"/>\n<path class=\"bond-16 atom-6 atom-16\" d=\"M 461.5,337.1 L 512.8,366.5\" style=\"fill:none;fill-rule:evenodd;stroke:#000000;stroke-width:2.0px;stroke-linecap:butt;stroke-linejoin:miter;stroke-opacity:1\"/>\n<path class=\"bond-17 atom-8 atom-17\" d=\"M 396.4,225.3 L 396.2,167.3\" style=\"fill:none;fill-rule:evenodd;stroke:#000000;stroke-width:2.0px;stroke-linecap:butt;stroke-linejoin:miter;stroke-opacity:1\"/>\n<path class=\"bond-18 atom-9 atom-18\" d=\"M 331.9,262.9 L 280.7,233.6\" style=\"fill:none;fill-rule:evenodd;stroke:#000000;stroke-width:2.0px;stroke-linecap:butt;stroke-linejoin:miter;stroke-opacity:1\"/>\n<path class=\"bond-19 atom-10 atom-19\" d=\"M 525.7,208.1 L 525.6,187.5\" style=\"fill:none;fill-rule:evenodd;stroke:#FF0000;stroke-width:2.0px;stroke-linecap:butt;stroke-linejoin:miter;stroke-opacity:1\"/>\n<path class=\"bond-19 atom-10 atom-19\" d=\"M 525.6,187.5 L 525.6,166.8\" style=\"fill:none;fill-rule:evenodd;stroke:#000000;stroke-width:2.0px;stroke-linecap:butt;stroke-linejoin:miter;stroke-opacity:1\"/>\n<path d=\"M 199.6,339.9 L 202.8,338.1 L 204.1,338.8\" style=\"fill:none;stroke:#000000;stroke-width:2.0px;stroke-linecap:butt;stroke-linejoin:miter;stroke-opacity:1;\"/>\n<path class=\"atom-2\" d=\"M 189.6 263.5 Q 189.6 256.7, 192.9 252.9 Q 196.3 249.1, 202.6 249.1 Q 208.9 249.1, 212.2 252.9 Q 215.6 256.7, 215.6 263.5 Q 215.6 270.3, 212.2 274.3 Q 208.8 278.1, 202.6 278.1 Q 196.3 278.1, 192.9 274.3 Q 189.6 270.4, 189.6 263.5 M 202.6 274.9 Q 206.9 274.9, 209.2 272.1 Q 211.6 269.1, 211.6 263.5 Q 211.6 257.9, 209.2 255.1 Q 206.9 252.3, 202.6 252.3 Q 198.3 252.3, 195.9 255.1 Q 193.6 257.9, 193.6 263.5 Q 193.6 269.2, 195.9 272.1 Q 198.3 274.9, 202.6 274.9 \" fill=\"#FF0000\"/>\n<path class=\"atom-3\" d=\"M 261.4 361.0 L 270.7 376.0 Q 271.6 377.5, 273.1 380.2 Q 274.5 382.8, 274.6 383.0 L 274.6 361.0 L 278.4 361.0 L 278.4 389.3 L 274.5 389.3 L 264.5 372.9 Q 263.4 371.0, 262.1 368.8 Q 260.9 366.6, 260.6 365.9 L 260.6 389.3 L 256.9 389.3 L 256.9 361.0 L 261.4 361.0 \" fill=\"#0000FF\"/>\n<path class=\"atom-10\" d=\"M 512.8 225.0 Q 512.8 218.2, 516.1 214.4 Q 519.5 210.6, 525.8 210.6 Q 532.1 210.6, 535.4 214.4 Q 538.8 218.2, 538.8 225.0 Q 538.8 231.8, 535.4 235.8 Q 532.0 239.6, 525.8 239.6 Q 519.5 239.6, 516.1 235.8 Q 512.8 231.9, 512.8 225.0 M 525.8 236.4 Q 530.1 236.4, 532.4 233.6 Q 534.8 230.6, 534.8 225.0 Q 534.8 219.4, 532.4 216.6 Q 530.1 213.8, 525.8 213.8 Q 521.5 213.8, 519.1 216.6 Q 516.8 219.4, 516.8 225.0 Q 516.8 230.7, 519.1 233.6 Q 521.5 236.4, 525.8 236.4 \" fill=\"#FF0000\"/>\n<path class=\"atom-11\" d=\"M 164.8 426.0 L 168.6 426.0 L 168.6 438.0 L 183.1 438.0 L 183.1 426.0 L 187.0 426.0 L 187.0 454.3 L 183.1 454.3 L 183.1 441.2 L 168.6 441.2 L 168.6 454.3 L 164.8 454.3 L 164.8 426.0 \" fill=\"#000000\"/>\n<path class=\"atom-12\" d=\"M 90.1 426.3 L 94.0 426.3 L 94.0 438.3 L 108.4 438.3 L 108.4 426.3 L 112.3 426.3 L 112.3 454.6 L 108.4 454.6 L 108.4 441.5 L 94.0 441.5 L 94.0 454.6 L 90.1 454.6 L 90.1 426.3 \" fill=\"#000000\"/>\n<path class=\"atom-13\" d=\"M 62.4 324.4 L 66.3 324.4 L 66.3 336.4 L 80.7 336.4 L 80.7 324.4 L 84.6 324.4 L 84.6 352.7 L 80.7 352.7 L 80.7 339.6 L 66.3 339.6 L 66.3 352.7 L 62.4 352.7 L 62.4 324.4 \" fill=\"#000000\"/>\n<path class=\"atom-14\" d=\"M 256.8 435.7 L 260.7 435.7 L 260.7 447.7 L 275.2 447.7 L 275.2 435.7 L 279.0 435.7 L 279.0 464.0 L 275.2 464.0 L 275.2 450.9 L 260.7 450.9 L 260.7 464.0 L 256.8 464.0 L 256.8 435.7 \" fill=\"#000000\"/>\n<path class=\"atom-15\" d=\"M 386.2 435.2 L 390.0 435.2 L 390.0 447.2 L 404.5 447.2 L 404.5 435.2 L 408.3 435.2 L 408.3 463.5 L 404.5 463.5 L 404.5 450.4 L 390.0 450.4 L 390.0 463.5 L 386.2 463.5 L 386.2 435.2 \" fill=\"#000000\"/>\n<path class=\"atom-16\" d=\"M 515.3 360.1 L 519.1 360.1 L 519.1 372.1 L 533.6 372.1 L 533.6 360.1 L 537.4 360.1 L 537.4 388.4 L 533.6 388.4 L 533.6 375.3 L 519.1 375.3 L 519.1 388.4 L 515.3 388.4 L 515.3 360.1 \" fill=\"#000000\"/>\n<path class=\"atom-17\" d=\"M 385.1 136.5 L 388.9 136.5 L 388.9 148.6 L 403.4 148.6 L 403.4 136.5 L 407.3 136.5 L 407.3 164.8 L 403.4 164.8 L 403.4 151.8 L 388.9 151.8 L 388.9 164.8 L 385.1 164.8 L 385.1 136.5 \" fill=\"#000000\"/>\n<path class=\"atom-18\" d=\"M 256.0 211.7 L 259.9 211.7 L 259.9 223.7 L 274.3 223.7 L 274.3 211.7 L 278.2 211.7 L 278.2 240.0 L 274.3 240.0 L 274.3 226.9 L 259.9 226.9 L 259.9 240.0 L 256.0 240.0 L 256.0 211.7 \" fill=\"#000000\"/>\n<path class=\"atom-19\" d=\"M 514.4 136.1 L 518.3 136.1 L 518.3 148.1 L 532.8 148.1 L 532.8 136.1 L 536.6 136.1 L 536.6 164.4 L 532.8 164.4 L 532.8 151.3 L 518.3 151.3 L 518.3 164.4 L 514.4 164.4 L 514.4 136.1 \" fill=\"#000000\"/>\n<path class=\"note\" d=\"M 156.4 387.7 Q 153.8 387.7, 152.5 385.8 Q 151.2 383.9, 151.2 380.5 Q 151.2 377.0, 152.5 375.1 Q 153.7 373.2, 156.4 373.2 Q 159.0 373.2, 160.3 375.1 Q 161.5 377.0, 161.5 380.5 Q 161.5 383.9, 160.2 385.8 Q 159.0 387.7, 156.4 387.7 M 156.4 386.1 Q 157.9 386.1, 158.7 384.7 Q 159.5 383.3, 159.5 380.5 Q 159.5 377.7, 158.7 376.3 Q 157.9 374.8, 156.4 374.8 Q 154.8 374.8, 154.0 376.3 Q 153.2 377.7, 153.2 380.5 Q 153.2 383.3, 154.0 384.7 Q 154.8 386.1, 156.4 386.1 \" fill=\"#000000\"/>\n<path class=\"note\" d=\"M 183.1 334.3 L 186.2 334.3 L 186.2 323.7 L 182.8 324.8 L 182.4 323.6 L 186.7 321.7 L 188.1 321.9 L 188.1 334.3 L 190.9 334.3 L 190.9 335.9 L 183.1 335.9 L 183.1 334.3 \" fill=\"#000000\"/>\n<path class=\"note\" d=\"M 197.7 221.7 Q 198.2 220.4, 199.5 219.6 Q 200.7 218.9, 202.4 218.9 Q 204.6 218.9, 205.8 220.0 Q 207.0 221.2, 207.0 223.3 Q 207.0 225.4, 205.4 227.3 Q 203.9 229.3, 200.7 231.6 L 207.2 231.6 L 207.2 233.2 L 197.7 233.2 L 197.7 231.9 Q 200.3 230.0, 201.9 228.6 Q 203.4 227.2, 204.2 225.9 Q 205.0 224.7, 205.0 223.4 Q 205.0 222.0, 204.3 221.2 Q 203.6 220.5, 202.4 220.5 Q 201.3 220.5, 200.5 220.9 Q 199.8 221.4, 199.2 222.4 L 197.7 221.7 \" fill=\"#000000\"/>\n<path class=\"note\" d=\"M 269.5 337.5 Q 270.9 337.9, 271.6 338.8 Q 272.3 339.7, 272.3 341.1 Q 272.3 342.3, 271.7 343.2 Q 271.1 344.2, 270.0 344.7 Q 268.9 345.2, 267.4 345.2 Q 265.9 345.2, 264.8 344.7 Q 263.6 344.1, 262.7 343.0 L 263.9 341.9 Q 264.8 342.8, 265.5 343.2 Q 266.2 343.6, 267.4 343.6 Q 268.7 343.6, 269.5 342.9 Q 270.3 342.2, 270.3 341.1 Q 270.3 339.6, 269.4 339.0 Q 268.6 338.3, 266.9 338.3 L 265.9 338.3 L 265.9 336.9 L 266.8 336.9 Q 268.3 336.9, 269.1 336.2 Q 270.0 335.5, 270.0 334.3 Q 270.0 333.4, 269.3 332.8 Q 268.6 332.3, 267.4 332.3 Q 266.3 332.3, 265.5 332.7 Q 264.8 333.1, 264.2 334.2 L 262.9 333.4 Q 263.4 332.2, 264.6 331.5 Q 265.8 330.7, 267.4 330.7 Q 269.5 330.7, 270.7 331.6 Q 272.0 332.6, 272.0 334.3 Q 272.0 335.4, 271.3 336.2 Q 270.7 337.1, 269.5 337.5 \" fill=\"#000000\"/>\n<path class=\"note\" d=\"M 336.0 358.5 L 337.7 358.5 L 337.7 360.1 L 336.0 360.1 L 336.0 363.3 L 334.1 363.3 L 334.1 360.1 L 326.8 360.1 L 326.8 358.8 L 333.0 349.2 L 336.0 349.2 L 336.0 358.5 M 329.1 358.5 L 334.1 358.5 L 334.1 350.5 L 329.1 358.5 \" fill=\"#000000\"/>\n<path class=\"note\" d=\"M 413.5 382.2 Q 414.8 382.2, 415.8 382.7 Q 416.8 383.3, 417.4 384.3 Q 418.0 385.2, 418.0 386.6 Q 418.0 388.0, 417.3 389.1 Q 416.6 390.1, 415.4 390.7 Q 414.2 391.2, 412.9 391.2 Q 411.6 391.2, 410.4 390.7 Q 409.2 390.3, 408.4 389.3 L 409.6 388.1 Q 410.3 388.8, 411.2 389.2 Q 412.1 389.6, 413.0 389.6 Q 414.2 389.6, 415.1 388.8 Q 416.0 388.0, 416.0 386.6 Q 416.0 385.1, 415.1 384.4 Q 414.2 383.7, 412.9 383.7 Q 411.6 383.7, 410.2 384.2 L 409.1 383.7 L 409.8 376.9 L 417.1 376.9 L 416.9 378.5 L 411.5 378.5 L 411.0 382.7 Q 412.3 382.2, 413.5 382.2 \" fill=\"#000000\"/>\n<path class=\"note\" d=\"M 471.4 319.2 Q 472.7 319.2, 473.6 319.8 Q 474.6 320.3, 475.2 321.3 Q 475.7 322.3, 475.7 323.5 Q 475.7 324.9, 475.1 326.0 Q 474.5 327.0, 473.4 327.6 Q 472.3 328.2, 470.9 328.2 Q 468.4 328.2, 467.1 326.5 Q 465.9 324.8, 465.9 321.4 Q 465.9 317.7, 467.4 315.7 Q 469.0 313.8, 472.0 313.8 Q 472.9 313.8, 473.7 314.0 Q 474.4 314.2, 475.1 314.6 L 474.4 315.9 Q 473.3 315.4, 472.1 315.4 Q 470.1 315.4, 469.0 316.7 Q 468.0 317.9, 467.9 320.6 Q 468.6 319.9, 469.5 319.6 Q 470.4 319.2, 471.4 319.2 M 471.0 326.6 Q 471.7 326.6, 472.3 326.2 Q 473.0 325.8, 473.3 325.1 Q 473.7 324.4, 473.7 323.5 Q 473.7 322.3, 473.0 321.6 Q 472.3 320.8, 471.1 320.8 Q 470.2 320.8, 469.3 321.2 Q 468.5 321.5, 467.9 322.1 Q 468.0 324.5, 468.7 325.5 Q 469.5 326.6, 471.0 326.6 \" fill=\"#000000\"/>\n<path class=\"note\" d=\"M 463.9 238.3 L 456.5 238.3 L 456.5 236.7 L 465.9 236.7 L 465.9 238.1 L 460.2 250.9 L 458.3 250.9 L 463.9 238.3 \" fill=\"#000000\"/>\n<path class=\"note\" d=\"M 382.5 215.7 Q 383.8 216.3, 384.5 217.1 Q 385.2 217.9, 385.2 219.3 Q 385.2 220.5, 384.6 221.5 Q 384.0 222.4, 382.9 222.9 Q 381.8 223.4, 380.3 223.4 Q 378.0 223.4, 376.6 222.3 Q 375.2 221.2, 375.2 219.3 Q 375.2 218.2, 375.8 217.3 Q 376.4 216.4, 377.7 215.8 Q 376.8 215.3, 376.3 214.5 Q 375.8 213.7, 375.8 212.5 Q 375.8 210.9, 377.0 209.9 Q 378.2 208.9, 380.2 208.9 Q 382.3 208.9, 383.5 209.9 Q 384.7 210.9, 384.7 212.5 Q 384.7 213.6, 384.1 214.3 Q 383.6 215.1, 382.5 215.7 M 380.2 210.4 Q 379.1 210.4, 378.4 211.0 Q 377.8 211.5, 377.8 212.5 Q 377.8 213.3, 378.2 213.8 Q 378.6 214.2, 379.3 214.5 Q 379.9 214.8, 381.1 215.2 Q 382.0 214.6, 382.3 214.0 Q 382.7 213.3, 382.7 212.5 Q 382.7 211.5, 382.1 211.0 Q 381.4 210.4, 380.2 210.4 M 380.3 221.9 Q 381.6 221.9, 382.4 221.2 Q 383.2 220.5, 383.2 219.3 Q 383.2 218.6, 382.8 218.1 Q 382.4 217.6, 381.8 217.3 Q 381.1 217.0, 380.0 216.7 L 379.1 216.4 Q 378.1 217.0, 377.7 217.7 Q 377.2 218.4, 377.2 219.3 Q 377.2 220.5, 378.1 221.2 Q 378.9 221.9, 380.3 221.9 \" fill=\"#000000\"/>\n<path class=\"note\" d=\"M 322.5 272.0 Q 325.0 272.0, 326.3 273.7 Q 327.6 275.4, 327.6 278.8 Q 327.6 282.5, 326.0 284.5 Q 324.4 286.4, 321.4 286.4 Q 320.5 286.4, 319.8 286.2 Q 319.0 286.0, 318.3 285.6 L 319.1 284.3 Q 320.1 284.8, 321.4 284.8 Q 323.4 284.8, 324.4 283.6 Q 325.4 282.3, 325.5 279.6 Q 324.8 280.3, 323.9 280.6 Q 323.0 281.0, 322.0 281.0 Q 320.8 281.0, 319.8 280.4 Q 318.8 279.9, 318.3 278.9 Q 317.7 277.9, 317.7 276.7 Q 317.7 275.3, 318.3 274.2 Q 319.0 273.2, 320.0 272.6 Q 321.1 272.0, 322.5 272.0 M 319.7 276.7 Q 319.7 277.9, 320.4 278.6 Q 321.1 279.4, 322.4 279.4 Q 323.2 279.4, 324.1 279.0 Q 324.9 278.7, 325.5 278.1 Q 325.5 275.7, 324.7 274.7 Q 324.0 273.6, 322.5 273.6 Q 321.7 273.6, 321.1 274.0 Q 320.5 274.4, 320.1 275.1 Q 319.7 275.8, 319.7 276.7 \" fill=\"#000000\"/>\n<path class=\"note\" d=\"M 548.6 249.0 L 551.7 249.0 L 551.7 238.4 L 548.3 239.5 L 547.8 238.3 L 552.2 236.4 L 553.6 236.6 L 553.6 249.0 L 556.4 249.0 L 556.4 250.6 L 548.6 250.6 L 548.6 249.0 \" fill=\"#000000\"/>\n<path class=\"note\" d=\"M 563.3 250.8 Q 560.7 250.8, 559.4 248.8 Q 558.2 246.9, 558.2 243.5 Q 558.2 240.1, 559.4 238.2 Q 560.7 236.3, 563.3 236.3 Q 566.0 236.3, 567.2 238.2 Q 568.5 240.1, 568.5 243.5 Q 568.5 246.9, 567.2 248.8 Q 565.9 250.8, 563.3 250.8 M 563.3 249.2 Q 564.9 249.2, 565.7 247.7 Q 566.5 246.3, 566.5 243.5 Q 566.5 240.7, 565.7 239.3 Q 564.9 237.9, 563.3 237.9 Q 561.8 237.9, 561.0 239.3 Q 560.2 240.7, 560.2 243.5 Q 560.2 246.3, 561.0 247.7 Q 561.8 249.2, 563.3 249.2 \" fill=\"#000000\"/>\n<path class=\"note\" d=\"M 186.1 478.0 L 189.2 478.0 L 189.2 467.4 L 185.7 468.4 L 185.3 467.3 L 189.6 465.3 L 191.0 465.6 L 191.0 478.0 L 193.8 478.0 L 193.8 479.6 L 186.1 479.6 L 186.1 478.0 \" fill=\"#000000\"/>\n<path class=\"note\" d=\"M 196.3 478.0 L 199.4 478.0 L 199.4 467.4 L 196.0 468.4 L 195.5 467.3 L 199.9 465.3 L 201.3 465.6 L 201.3 478.0 L 204.1 478.0 L 204.1 479.6 L 196.3 479.6 L 196.3 478.0 \" fill=\"#000000\"/>\n<path class=\"note\" d=\"M 73.5 478.4 L 76.6 478.4 L 76.6 467.8 L 73.2 468.9 L 72.7 467.7 L 77.1 465.8 L 78.5 466.0 L 78.5 478.4 L 81.3 478.4 L 81.3 480.0 L 73.5 480.0 L 73.5 478.4 \" fill=\"#000000\"/>\n<path class=\"note\" d=\"M 83.1 468.5 Q 83.6 467.2, 84.8 466.4 Q 86.1 465.7, 87.8 465.7 Q 89.9 465.7, 91.1 466.8 Q 92.3 468.0, 92.3 470.1 Q 92.3 472.2, 90.8 474.1 Q 89.2 476.1, 86.0 478.4 L 92.6 478.4 L 92.6 480.0 L 83.0 480.0 L 83.0 478.7 Q 85.7 476.8, 87.2 475.4 Q 88.8 474.0, 89.6 472.7 Q 90.3 471.5, 90.3 470.2 Q 90.3 468.8, 89.6 468.0 Q 89.0 467.3, 87.8 467.3 Q 86.6 467.3, 85.9 467.7 Q 85.1 468.2, 84.6 469.2 L 83.1 468.5 \" fill=\"#000000\"/>\n<path class=\"note\" d=\"M 32.0 325.5 L 35.1 325.5 L 35.1 314.9 L 31.7 316.0 L 31.2 314.8 L 35.5 312.9 L 37.0 313.1 L 37.0 325.5 L 39.7 325.5 L 39.7 327.1 L 32.0 327.1 L 32.0 325.5 \" fill=\"#000000\"/>\n<path class=\"note\" d=\"M 48.3 319.7 Q 49.7 320.1, 50.3 321.0 Q 51.0 321.8, 51.0 323.2 Q 51.0 324.4, 50.4 325.4 Q 49.8 326.3, 48.7 326.8 Q 47.6 327.3, 46.2 327.3 Q 44.6 327.3, 43.5 326.8 Q 42.4 326.3, 41.5 325.2 L 42.6 324.0 Q 43.5 325.0, 44.2 325.4 Q 45.0 325.7, 46.2 325.7 Q 47.4 325.7, 48.2 325.0 Q 49.0 324.3, 49.0 323.2 Q 49.0 321.8, 48.2 321.1 Q 47.4 320.5, 45.6 320.5 L 44.6 320.5 L 44.6 319.0 L 45.5 319.0 Q 47.1 319.0, 47.9 318.4 Q 48.7 317.7, 48.7 316.4 Q 48.7 315.5, 48.0 315.0 Q 47.3 314.4, 46.2 314.4 Q 45.0 314.4, 44.3 314.8 Q 43.5 315.2, 43.0 316.3 L 41.6 315.6 Q 42.1 314.4, 43.3 313.6 Q 44.5 312.8, 46.2 312.8 Q 48.3 312.8, 49.5 313.8 Q 50.7 314.8, 50.7 316.4 Q 50.7 317.6, 50.1 318.4 Q 49.5 319.2, 48.3 319.7 \" fill=\"#000000\"/>\n<path class=\"note\" d=\"M 258.2 492.7 L 261.3 492.7 L 261.3 482.1 L 257.9 483.2 L 257.4 482.0 L 261.8 480.0 L 263.2 480.3 L 263.2 492.7 L 266.0 492.7 L 266.0 494.3 L 258.2 494.3 L 258.2 492.7 \" fill=\"#000000\"/>\n<path class=\"note\" d=\"M 277.0 489.4 L 278.7 489.4 L 278.7 491.0 L 277.0 491.0 L 277.0 494.3 L 275.1 494.3 L 275.1 491.0 L 267.8 491.0 L 267.8 489.8 L 274.0 480.1 L 277.0 480.1 L 277.0 489.4 M 270.1 489.4 L 275.1 489.4 L 275.1 481.4 L 270.1 489.4 \" fill=\"#000000\"/>\n<path class=\"note\" d=\"M 388.2 492.2 L 391.3 492.2 L 391.3 481.6 L 387.9 482.7 L 387.5 481.5 L 391.8 479.6 L 393.2 479.8 L 393.2 492.2 L 396.0 492.2 L 396.0 493.8 L 388.2 493.8 L 388.2 492.2 \" fill=\"#000000\"/>\n<path class=\"note\" d=\"M 402.9 485.0 Q 404.1 485.0, 405.1 485.5 Q 406.2 486.0, 406.7 487.0 Q 407.3 488.0, 407.3 489.3 Q 407.3 490.8, 406.6 491.9 Q 405.9 492.9, 404.7 493.4 Q 403.6 494.0, 402.3 494.0 Q 401.0 494.0, 399.8 493.5 Q 398.6 493.0, 397.7 492.1 L 398.9 490.9 Q 399.6 491.6, 400.5 492.0 Q 401.4 492.4, 402.3 492.4 Q 403.6 492.4, 404.4 491.6 Q 405.3 490.8, 405.3 489.4 Q 405.3 487.9, 404.4 487.2 Q 403.6 486.5, 402.2 486.5 Q 401.0 486.5, 399.6 487.0 L 398.5 486.5 L 399.2 479.7 L 406.4 479.7 L 406.2 481.3 L 400.8 481.3 L 400.4 485.5 Q 401.6 485.0, 402.9 485.0 \" fill=\"#000000\"/>\n<path class=\"note\" d=\"M 549.5 398.3 L 552.6 398.3 L 552.6 387.8 L 549.1 388.8 L 548.7 387.6 L 553.0 385.7 L 554.4 385.9 L 554.4 398.3 L 557.2 398.3 L 557.2 399.9 L 549.5 399.9 L 549.5 398.3 \" fill=\"#000000\"/>\n<path class=\"note\" d=\"M 564.5 391.1 Q 565.8 391.1, 566.7 391.6 Q 567.7 392.2, 568.3 393.2 Q 568.8 394.1, 568.8 395.4 Q 568.8 396.8, 568.2 397.8 Q 567.6 398.9, 566.5 399.5 Q 565.4 400.1, 564.0 400.1 Q 561.5 400.1, 560.2 398.4 Q 559.0 396.7, 559.0 393.3 Q 559.0 389.5, 560.5 387.6 Q 562.1 385.6, 565.1 385.6 Q 566.0 385.6, 566.8 385.8 Q 567.5 386.0, 568.2 386.4 L 567.5 387.8 Q 566.4 387.2, 565.2 387.2 Q 563.2 387.2, 562.1 388.5 Q 561.1 389.8, 561.0 392.5 Q 561.7 391.8, 562.6 391.5 Q 563.5 391.1, 564.5 391.1 M 564.1 398.5 Q 564.8 398.5, 565.4 398.1 Q 566.1 397.7, 566.4 397.0 Q 566.8 396.3, 566.8 395.4 Q 566.8 394.1, 566.1 393.4 Q 565.4 392.7, 564.2 392.7 Q 563.3 392.7, 562.4 393.1 Q 561.6 393.4, 561.0 394.0 Q 561.1 396.3, 561.8 397.4 Q 562.6 398.5, 564.1 398.5 \" fill=\"#000000\"/>\n<path class=\"note\" d=\"M 387.0 118.9 L 390.1 118.9 L 390.1 108.3 L 386.7 109.3 L 386.2 108.2 L 390.5 106.2 L 392.0 106.5 L 392.0 118.9 L 394.7 118.9 L 394.7 120.5 L 387.0 120.5 L 387.0 118.9 \" fill=\"#000000\"/>\n<path class=\"note\" d=\"M 403.9 107.9 L 396.5 107.9 L 396.5 106.3 L 405.9 106.3 L 405.9 107.7 L 400.2 120.5 L 398.2 120.5 L 403.9 107.9 \" fill=\"#000000\"/>\n<path class=\"note\" d=\"M 225.3 212.8 L 228.4 212.8 L 228.4 202.2 L 225.0 203.3 L 224.5 202.1 L 228.9 200.2 L 230.3 200.4 L 230.3 212.8 L 233.1 212.8 L 233.1 214.4 L 225.3 214.4 L 225.3 212.8 \" fill=\"#000000\"/>\n<path class=\"note\" d=\"M 242.1 206.9 Q 243.4 207.5, 244.1 208.3 Q 244.9 209.1, 244.9 210.5 Q 244.9 211.7, 244.2 212.7 Q 243.6 213.6, 242.5 214.1 Q 241.4 214.6, 239.9 214.6 Q 237.6 214.6, 236.2 213.5 Q 234.9 212.4, 234.9 210.5 Q 234.9 209.4, 235.5 208.5 Q 236.1 207.6, 237.3 207.0 Q 236.4 206.5, 235.9 205.7 Q 235.4 204.9, 235.4 203.7 Q 235.4 202.1, 236.6 201.1 Q 237.8 200.1, 239.9 200.1 Q 241.9 200.1, 243.1 201.1 Q 244.3 202.1, 244.3 203.7 Q 244.3 204.8, 243.8 205.5 Q 243.2 206.3, 242.1 206.9 M 239.9 201.6 Q 238.7 201.6, 238.0 202.2 Q 237.4 202.7, 237.4 203.7 Q 237.4 204.5, 237.8 205.0 Q 238.3 205.4, 238.9 205.7 Q 239.5 206.0, 240.7 206.4 Q 241.6 205.8, 242.0 205.2 Q 242.3 204.5, 242.3 203.7 Q 242.3 202.7, 241.7 202.2 Q 241.0 201.6, 239.9 201.6 M 239.9 213.1 Q 241.3 213.1, 242.1 212.4 Q 242.9 211.7, 242.9 210.5 Q 242.9 209.8, 242.4 209.3 Q 242.0 208.8, 241.4 208.5 Q 240.8 208.2, 239.6 207.9 L 238.7 207.6 Q 237.7 208.2, 237.3 208.9 Q 236.9 209.6, 236.9 210.5 Q 236.9 211.7, 237.7 212.4 Q 238.5 213.1, 239.9 213.1 \" fill=\"#000000\"/>\n<path class=\"note\" d=\"M 516.1 118.4 L 519.2 118.4 L 519.2 107.9 L 515.8 108.9 L 515.3 107.7 L 519.7 105.8 L 521.1 106.0 L 521.1 118.4 L 523.9 118.4 L 523.9 120.0 L 516.1 120.0 L 516.1 118.4 \" fill=\"#000000\"/>\n<path class=\"note\" d=\"M 530.4 105.7 Q 532.9 105.7, 534.2 107.4 Q 535.4 109.1, 535.4 112.5 Q 535.4 116.3, 533.9 118.3 Q 532.3 120.2, 529.3 120.2 Q 528.4 120.2, 527.6 120.0 Q 526.9 119.8, 526.2 119.4 L 527.0 118.0 Q 528.0 118.6, 529.3 118.6 Q 531.3 118.6, 532.3 117.3 Q 533.3 116.0, 533.4 113.4 Q 532.7 114.0, 531.8 114.4 Q 530.9 114.7, 529.9 114.7 Q 528.7 114.7, 527.7 114.2 Q 526.7 113.6, 526.2 112.7 Q 525.6 111.7, 525.6 110.4 Q 525.6 109.1, 526.2 108.0 Q 526.8 106.9, 527.9 106.3 Q 529.0 105.7, 530.4 105.7 M 527.6 110.4 Q 527.6 111.7, 528.3 112.4 Q 529.0 113.1, 530.3 113.1 Q 531.1 113.1, 532.0 112.8 Q 532.8 112.4, 533.4 111.8 Q 533.3 109.5, 532.6 108.4 Q 531.9 107.4, 530.4 107.4 Q 529.6 107.4, 529.0 107.8 Q 528.3 108.2, 528.0 108.9 Q 527.6 109.6, 527.6 110.4 \" fill=\"#000000\"/>\n</svg>"
          },
          "metadata": {},
          "execution_count": 2
        }
      ]
    },
    {
      "cell_type": "code",
      "source": [
        "#@title **Show 3D structure of your molecule**:\n",
        "\n",
        "\n",
        "mol = Chem.MolFromSmiles(Smiles)\n",
        "new_match = hmol.GetSubstructMatch(mol)\n",
        "hmol = Chem.AddHs(mol)\n",
        "AllChem.EmbedMolecule(hmol)\n",
        "mp = rdForceFieldHelpers.MMFFGetMoleculeProperties(hmol)\n",
        "ff = rdForceFieldHelpers.MMFFGetMoleculeForceField(hmol, mp)\n",
        "AllChem.OptimizeMolecule(ff, maxIters=200)\n",
        "ff.Minimize()\n",
        "AllChem.MolToMolFile(hmol, (os.path.join(workDir, \"smiles_min.mol\")))\n",
        "AllChem.MolToPDBFile(hmol, (os.path.join(workDir, \"smiles_min.pdb\")))\n",
        "mol_end = mol_with_atom_index(hmol)\n",
        "IPythonConsole.drawMol3D(hmol)"
      ],
      "metadata": {
        "colab": {
          "base_uri": "https://localhost:8080/",
          "height": 417
        },
        "cellView": "form",
        "id": "pt-vFDeBzhCb",
        "outputId": "7f69a17d-6484-4a42-ae79-b10bd06f0492"
      },
      "execution_count": 5,
      "outputs": [
        {
          "output_type": "display_data",
          "data": {
            "application/3dmoljs_load.v0": "<div id=\"3dmolviewer_17134671012301536\"  style=\"position: relative; width: 400px; height: 400px;\">\n        <p id=\"3dmolwarning_17134671012301536\" style=\"background-color:#ffcccc;color:black\">3Dmol.js failed to load for some reason.  Please check your browser console for error messages.<br></p>\n        </div>\n<script>\n\nvar loadScriptAsync = function(uri){\n  return new Promise((resolve, reject) => {\n    //this is to ignore the existence of requirejs amd\n    var savedexports, savedmodule;\n    if (typeof exports !== 'undefined') savedexports = exports;\n    else exports = {}\n    if (typeof module !== 'undefined') savedmodule = module;\n    else module = {}\n\n    var tag = document.createElement('script');\n    tag.src = uri;\n    tag.async = true;\n    tag.onload = () => {\n        exports = savedexports;\n        module = savedmodule;\n        resolve();\n    };\n  var firstScriptTag = document.getElementsByTagName('script')[0];\n  firstScriptTag.parentNode.insertBefore(tag, firstScriptTag);\n});\n};\n\nif(typeof $3Dmolpromise === 'undefined') {\n$3Dmolpromise = null;\n  $3Dmolpromise = loadScriptAsync('https://cdnjs.cloudflare.com/ajax/libs/3Dmol/2.1.0/3Dmol-min.js');\n}\n\nvar viewer_17134671012301536 = null;\nvar warn = document.getElementById(\"3dmolwarning_17134671012301536\");\nif(warn) {\n    warn.parentNode.removeChild(warn);\n}\n$3Dmolpromise.then(function() {\nviewer_17134671012301536 = $3Dmol.createViewer(document.getElementById(\"3dmolviewer_17134671012301536\"),{backgroundColor:\"white\"});\nviewer_17134671012301536.zoomTo();\n\tviewer_17134671012301536.removeAllModels();\n\tviewer_17134671012301536.addModel(\"\\n     RDKit          3D\\n\\n 20 20  0  0  0  0  0  0  0  0999 V2000\\n    3.6814   -0.4660   -0.0114 C   0  0  0  0  0  0  0  0  0  0  0  0\\n    2.2910   -0.3840    0.5684 C   0  0  0  0  0  0  0  0  0  1  0  0\\n    2.1053   -0.5289    1.7713 O   0  0  0  0  0  0  0  0  0  2  0  0\\n    1.3382   -0.1101   -0.3960 N   0  0  0  0  0  0  0  0  0  3  0  0\\n   -0.0520    0.0387   -0.2127 C   0  0  0  0  0  0  0  0  0  4  0  0\\n   -0.6957   -0.0859    1.0211 C   0  0  0  0  0  0  0  0  0  5  0  0\\n   -2.0826    0.0757    1.1207 C   0  0  0  0  0  0  0  0  0  6  0  0\\n   -2.8246    0.3621   -0.0185 C   0  0  0  0  0  0  0  0  0  7  0  0\\n   -2.2036    0.4891   -1.2529 C   0  0  0  0  0  0  0  0  0  8  0  0\\n   -0.8192    0.3274   -1.3499 C   0  0  0  0  0  0  0  0  0  9  0  0\\n   -4.1761    0.5270    0.0347 O   0  0  0  0  0  0  0  0  0 10  0  0\\n    4.3151   -1.0659    0.6481 H   0  0  0  0  0  0  0  0  0 11  0  0\\n    3.6678   -0.9447   -0.9948 H   0  0  0  0  0  0  0  0  0 12  0  0\\n    4.0976    0.5411   -0.0978 H   0  0  0  0  0  0  0  0  0 13  0  0\\n    1.6718    0.0057   -1.3445 H   0  0  0  0  0  0  0  0  0 14  0  0\\n   -0.1464   -0.3099    1.9302 H   0  0  0  0  0  0  0  0  0 15  0  0\\n   -2.5552   -0.0267    2.0926 H   0  0  0  0  0  0  0  0  0 16  0  0\\n   -2.7934    0.7130   -2.1371 H   0  0  0  0  0  0  0  0  0 17  0  0\\n   -0.3548    0.4313   -2.3267 H   0  0  0  0  0  0  0  0  0 18  0  0\\n   -4.4646    0.4111    0.9551 H   0  0  0  0  0  0  0  0  0 19  0  0\\n  1  2  1  0\\n  2  3  2  0\\n  2  4  1  0\\n  4  5  1  0\\n  5  6  2  0\\n  6  7  1  0\\n  7  8  2  0\\n  8  9  1  0\\n  9 10  2  0\\n  8 11  1  0\\n 10  5  1  0\\n  1 12  1  0\\n  1 13  1  0\\n  1 14  1  0\\n  4 15  1  0\\n  6 16  1  0\\n  7 17  1  0\\n  9 18  1  0\\n 10 19  1  0\\n 11 20  1  0\\nM  END\\n\",\"sdf\");\n\tviewer_17134671012301536.setStyle({\"stick\": {}});\n\tviewer_17134671012301536.setBackgroundColor(\"0xeeeeee\");\n\tviewer_17134671012301536.zoomTo();\nviewer_17134671012301536.render();\n});\n</script>",
            "text/html": [
              "<div id=\"3dmolviewer_17134671012301536\"  style=\"position: relative; width: 400px; height: 400px;\">\n",
              "        <p id=\"3dmolwarning_17134671012301536\" style=\"background-color:#ffcccc;color:black\">3Dmol.js failed to load for some reason.  Please check your browser console for error messages.<br></p>\n",
              "        </div>\n",
              "<script>\n",
              "\n",
              "var loadScriptAsync = function(uri){\n",
              "  return new Promise((resolve, reject) => {\n",
              "    //this is to ignore the existence of requirejs amd\n",
              "    var savedexports, savedmodule;\n",
              "    if (typeof exports !== 'undefined') savedexports = exports;\n",
              "    else exports = {}\n",
              "    if (typeof module !== 'undefined') savedmodule = module;\n",
              "    else module = {}\n",
              "\n",
              "    var tag = document.createElement('script');\n",
              "    tag.src = uri;\n",
              "    tag.async = true;\n",
              "    tag.onload = () => {\n",
              "        exports = savedexports;\n",
              "        module = savedmodule;\n",
              "        resolve();\n",
              "    };\n",
              "  var firstScriptTag = document.getElementsByTagName('script')[0];\n",
              "  firstScriptTag.parentNode.insertBefore(tag, firstScriptTag);\n",
              "});\n",
              "};\n",
              "\n",
              "if(typeof $3Dmolpromise === 'undefined') {\n",
              "$3Dmolpromise = null;\n",
              "  $3Dmolpromise = loadScriptAsync('https://cdnjs.cloudflare.com/ajax/libs/3Dmol/2.1.0/3Dmol-min.js');\n",
              "}\n",
              "\n",
              "var viewer_17134671012301536 = null;\n",
              "var warn = document.getElementById(\"3dmolwarning_17134671012301536\");\n",
              "if(warn) {\n",
              "    warn.parentNode.removeChild(warn);\n",
              "}\n",
              "$3Dmolpromise.then(function() {\n",
              "viewer_17134671012301536 = $3Dmol.createViewer(document.getElementById(\"3dmolviewer_17134671012301536\"),{backgroundColor:\"white\"});\n",
              "viewer_17134671012301536.zoomTo();\n",
              "\tviewer_17134671012301536.removeAllModels();\n",
              "\tviewer_17134671012301536.addModel(\"\\n     RDKit          3D\\n\\n 20 20  0  0  0  0  0  0  0  0999 V2000\\n    3.6814   -0.4660   -0.0114 C   0  0  0  0  0  0  0  0  0  0  0  0\\n    2.2910   -0.3840    0.5684 C   0  0  0  0  0  0  0  0  0  1  0  0\\n    2.1053   -0.5289    1.7713 O   0  0  0  0  0  0  0  0  0  2  0  0\\n    1.3382   -0.1101   -0.3960 N   0  0  0  0  0  0  0  0  0  3  0  0\\n   -0.0520    0.0387   -0.2127 C   0  0  0  0  0  0  0  0  0  4  0  0\\n   -0.6957   -0.0859    1.0211 C   0  0  0  0  0  0  0  0  0  5  0  0\\n   -2.0826    0.0757    1.1207 C   0  0  0  0  0  0  0  0  0  6  0  0\\n   -2.8246    0.3621   -0.0185 C   0  0  0  0  0  0  0  0  0  7  0  0\\n   -2.2036    0.4891   -1.2529 C   0  0  0  0  0  0  0  0  0  8  0  0\\n   -0.8192    0.3274   -1.3499 C   0  0  0  0  0  0  0  0  0  9  0  0\\n   -4.1761    0.5270    0.0347 O   0  0  0  0  0  0  0  0  0 10  0  0\\n    4.3151   -1.0659    0.6481 H   0  0  0  0  0  0  0  0  0 11  0  0\\n    3.6678   -0.9447   -0.9948 H   0  0  0  0  0  0  0  0  0 12  0  0\\n    4.0976    0.5411   -0.0978 H   0  0  0  0  0  0  0  0  0 13  0  0\\n    1.6718    0.0057   -1.3445 H   0  0  0  0  0  0  0  0  0 14  0  0\\n   -0.1464   -0.3099    1.9302 H   0  0  0  0  0  0  0  0  0 15  0  0\\n   -2.5552   -0.0267    2.0926 H   0  0  0  0  0  0  0  0  0 16  0  0\\n   -2.7934    0.7130   -2.1371 H   0  0  0  0  0  0  0  0  0 17  0  0\\n   -0.3548    0.4313   -2.3267 H   0  0  0  0  0  0  0  0  0 18  0  0\\n   -4.4646    0.4111    0.9551 H   0  0  0  0  0  0  0  0  0 19  0  0\\n  1  2  1  0\\n  2  3  2  0\\n  2  4  1  0\\n  4  5  1  0\\n  5  6  2  0\\n  6  7  1  0\\n  7  8  2  0\\n  8  9  1  0\\n  9 10  2  0\\n  8 11  1  0\\n 10  5  1  0\\n  1 12  1  0\\n  1 13  1  0\\n  1 14  1  0\\n  4 15  1  0\\n  6 16  1  0\\n  7 17  1  0\\n  9 18  1  0\\n 10 19  1  0\\n 11 20  1  0\\nM  END\\n\",\"sdf\");\n",
              "\tviewer_17134671012301536.setStyle({\"stick\": {}});\n",
              "\tviewer_17134671012301536.setBackgroundColor(\"0xeeeeee\");\n",
              "\tviewer_17134671012301536.zoomTo();\n",
              "viewer_17134671012301536.render();\n",
              "});\n",
              "</script>"
            ]
          },
          "metadata": {}
        }
      ]
    }
  ]
}